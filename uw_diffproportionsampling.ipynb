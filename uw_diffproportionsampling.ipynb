{
 "cells": [
  {
   "cell_type": "code",
   "execution_count": 33,
   "metadata": {
    "collapsed": false
   },
   "outputs": [],
   "source": [
    "import numpy as np\n",
    "import pandas as pd\n",
    "import matplotlib.pyplot as plt\n",
    "import time\n",
    "from sklearn import preprocessing"
   ]
  },
  {
   "cell_type": "markdown",
   "metadata": {},
   "source": [
    "### Importing OTU table, normalization (change to relative abundances), set training and testing groups"
   ]
  },
  {
   "cell_type": "code",
   "execution_count": 35,
   "metadata": {
    "collapsed": false
   },
   "outputs": [
    {
     "name": "stdout",
     "output_type": "stream",
     "text": [
      "OTU_ID  denovo7709  denovo5395  denovo11322  denovo44859  denovo44858  \\\n",
      "G37960    0.000000         0.0          0.0          0.0          0.0   \n",
      "G37961    0.000000         0.0          0.0          0.0          0.0   \n",
      "G37962    0.000000         0.0          0.0          0.0          0.0   \n",
      "G37963    0.000000         0.0          0.0          0.0          0.0   \n",
      "G37964    0.000000         0.0          0.0          0.0          0.0   \n",
      "G37965    0.000000         0.0          0.0          0.0          0.0   \n",
      "G37966    0.000000         0.0          0.0          0.0          0.0   \n",
      "G37967    0.000000         0.0          0.0          0.0          0.0   \n",
      "G37968    0.000000         0.0          0.0          0.0          0.0   \n",
      "G37969    0.000000         0.0          0.0          0.0          0.0   \n",
      "G37970    0.000000         0.0          0.0          0.0          0.0   \n",
      "G37971    0.000000         0.0          0.0          0.0          0.0   \n",
      "G37972    0.000000         0.0          0.0          0.0          0.0   \n",
      "G37973    0.000000         0.0          0.0          0.0          0.0   \n",
      "G37975    0.000000         0.0          0.0          0.0          0.0   \n",
      "G37976    0.000000         0.0          0.0          0.0          0.0   \n",
      "G37978    0.000000         0.0          0.0          0.0          0.0   \n",
      "G37979    0.000000         0.0          0.0          0.0          0.0   \n",
      "G37980    0.000000         0.0          0.0          0.0          0.0   \n",
      "G37981    0.000000         0.0          0.0          0.0          0.0   \n",
      "G37982    0.000000         0.0          0.0          0.0          0.0   \n",
      "G37983    0.000000         0.0          0.0          0.0          0.0   \n",
      "G37984    0.000000         0.0          0.0          0.0          0.0   \n",
      "G37985    0.000000         0.0          0.0          0.0          0.0   \n",
      "G37986    0.000000         0.0          0.0          0.0          0.0   \n",
      "G37988    0.000000         0.0          0.0          0.0          0.0   \n",
      "G37989    0.000000         0.0          0.0          0.0          0.0   \n",
      "G37990    0.000000         0.0          0.0          0.0          0.0   \n",
      "G37991    0.000000         0.0          0.0          0.0          0.0   \n",
      "G37992    0.000000         0.0          0.0          0.0          0.0   \n",
      "...            ...         ...          ...          ...          ...   \n",
      "G44009    0.000000         0.0          0.0          0.0          0.0   \n",
      "G38144    0.000000         0.0          0.0          0.0          0.0   \n",
      "G37987    0.000000         0.0          0.0          0.0          0.0   \n",
      "G43629    0.000000         0.0          0.0          0.0          0.0   \n",
      "G43582    0.000000         0.0          0.0          0.0          0.0   \n",
      "G43508    0.000000         0.0          0.0          0.0          0.0   \n",
      "G38097    0.000000         0.0          0.0          0.0          0.0   \n",
      "G38041    0.000000         0.0          0.0          0.0          0.0   \n",
      "G43484    0.000000         0.0          0.0          0.0          0.0   \n",
      "G43731    0.000000         0.0          0.0          0.0          0.0   \n",
      "G38039    0.000000         0.0          0.0          0.0          0.0   \n",
      "G38088    0.000000         0.0          0.0          0.0          0.0   \n",
      "G43239    0.000000         0.0          0.0          0.0          0.0   \n",
      "G37974    0.000000         0.0          0.0          0.0          0.0   \n",
      "G43237    0.000000         0.0          0.0          0.0          0.0   \n",
      "G38069    0.000000         0.0          0.0          0.0          0.0   \n",
      "G43333    0.000000         0.0          0.0          0.0          0.0   \n",
      "G43533    0.000000         0.0          0.0          0.0          0.0   \n",
      "G38119    0.000000         0.0          0.0          0.0          0.0   \n",
      "G43131    0.000000         0.0          0.0          0.0          0.0   \n",
      "G43174    0.000000         0.0          0.0          0.0          0.0   \n",
      "G38024    0.000036         0.0          0.0          0.0          0.0   \n",
      "G38138    0.000000         0.0          0.0          0.0          0.0   \n",
      "G43548    0.000000         0.0          0.0          0.0          0.0   \n",
      "G43597    0.000000         0.0          0.0          0.0          0.0   \n",
      "G43265    0.000000         0.0          0.0          0.0          0.0   \n",
      "G43156    0.000000         0.0          0.0          0.0          0.0   \n",
      "G43211    0.000000         0.0          0.0          0.0          0.0   \n",
      "G43179    0.000000         0.0          0.0          0.0          0.0   \n",
      "G43544    0.000000         0.0          0.0          0.0          0.0   \n",
      "\n",
      "OTU_ID  denovo41472  denovo41473  denovo41470  denovo41471  denovo41476  \\\n",
      "G37960          0.0          0.0          0.0          0.0     0.000000   \n",
      "G37961          0.0          0.0          0.0          0.0     0.000000   \n",
      "G37962          0.0          0.0          0.0          0.0     0.000000   \n",
      "G37963          0.0          0.0          0.0          0.0     0.000000   \n",
      "G37964          0.0          0.0          0.0          0.0     0.000000   \n",
      "G37965          0.0          0.0          0.0          0.0     0.000000   \n",
      "G37966          0.0          0.0          0.0          0.0     0.000000   \n",
      "G37967          0.0          0.0          0.0          0.0     0.000000   \n",
      "G37968          0.0          0.0          0.0          0.0     0.000000   \n",
      "G37969          0.0          0.0          0.0          0.0     0.000000   \n",
      "G37970          0.0          0.0          0.0          0.0     0.000000   \n",
      "G37971          0.0          0.0          0.0          0.0     0.000000   \n",
      "G37972          0.0          0.0          0.0          0.0     0.000000   \n",
      "G37973          0.0          0.0          0.0          0.0     0.000000   \n",
      "G37975          0.0          0.0          0.0          0.0     0.000000   \n",
      "G37976          0.0          0.0          0.0          0.0     0.000000   \n",
      "G37978          0.0          0.0          0.0          0.0     0.000023   \n",
      "G37979          0.0          0.0          0.0          0.0     0.000000   \n",
      "G37980          0.0          0.0          0.0          0.0     0.000000   \n",
      "G37981          0.0          0.0          0.0          0.0     0.000000   \n",
      "G37982          0.0          0.0          0.0          0.0     0.000000   \n",
      "G37983          0.0          0.0          0.0          0.0     0.000000   \n",
      "G37984          0.0          0.0          0.0          0.0     0.000000   \n",
      "G37985          0.0          0.0          0.0          0.0     0.000000   \n",
      "G37986          0.0          0.0          0.0          0.0     0.000000   \n",
      "G37988          0.0          0.0          0.0          0.0     0.000000   \n",
      "G37989          0.0          0.0          0.0          0.0     0.000000   \n",
      "G37990          0.0          0.0          0.0          0.0     0.000000   \n",
      "G37991          0.0          0.0          0.0          0.0     0.000000   \n",
      "G37992          0.0          0.0          0.0          0.0     0.000000   \n",
      "...             ...          ...          ...          ...          ...   \n",
      "G44009          0.0          0.0          0.0          0.0     0.000000   \n",
      "G38144          0.0          0.0          0.0          0.0     0.000000   \n",
      "G37987          0.0          0.0          0.0          0.0     0.000000   \n",
      "G43629          0.0          0.0          0.0          0.0     0.000000   \n",
      "G43582          0.0          0.0          0.0          0.0     0.000000   \n",
      "G43508          0.0          0.0          0.0          0.0     0.000000   \n",
      "G38097          0.0          0.0          0.0          0.0     0.000000   \n",
      "G38041          0.0          0.0          0.0          0.0     0.000000   \n",
      "G43484          0.0          0.0          0.0          0.0     0.000000   \n",
      "G43731          0.0          0.0          0.0          0.0     0.000000   \n",
      "G38039          0.0          0.0          0.0          0.0     0.000000   \n",
      "G38088          0.0          0.0          0.0          0.0     0.000000   \n",
      "G43239          0.0          0.0          0.0          0.0     0.000000   \n",
      "G37974          0.0          0.0          0.0          0.0     0.000000   \n",
      "G43237          0.0          0.0          0.0          0.0     0.000000   \n",
      "G38069          0.0          0.0          0.0          0.0     0.000000   \n",
      "G43333          0.0          0.0          0.0          0.0     0.000000   \n",
      "G43533          0.0          0.0          0.0          0.0     0.000000   \n",
      "G38119          0.0          0.0          0.0          0.0     0.000000   \n",
      "G43131          0.0          0.0          0.0          0.0     0.000000   \n",
      "G43174          0.0          0.0          0.0          0.0     0.000000   \n",
      "G38024          0.0          0.0          0.0          0.0     0.000000   \n",
      "G38138          0.0          0.0          0.0          0.0     0.000000   \n",
      "G43548          0.0          0.0          0.0          0.0     0.000000   \n",
      "G43597          0.0          0.0          0.0          0.0     0.000000   \n",
      "G43265          0.0          0.0          0.0          0.0     0.000000   \n",
      "G43156          0.0          0.0          0.0          0.0     0.000000   \n",
      "G43211          0.0          0.0          0.0          0.0     0.000000   \n",
      "G43179          0.0          0.0          0.0          0.0     0.000000   \n",
      "G43544          0.0          0.0          0.0          0.0     0.000000   \n",
      "\n",
      "OTU_ID     ...       denovo22212  denovo19194  denovo32732  denovo7356  \\\n",
      "G37960     ...               0.0          0.0          0.0         0.0   \n",
      "G37961     ...               0.0          0.0          0.0         0.0   \n",
      "G37962     ...               0.0          0.0          0.0         0.0   \n",
      "G37963     ...               0.0          0.0          0.0         0.0   \n",
      "G37964     ...               0.0          0.0          0.0         0.0   \n",
      "G37965     ...               0.0          0.0          0.0         0.0   \n",
      "G37966     ...               0.0          0.0          0.0         0.0   \n",
      "G37967     ...               0.0          0.0          0.0         0.0   \n",
      "G37968     ...               0.0          0.0          0.0         0.0   \n",
      "G37969     ...               0.0          0.0          0.0         0.0   \n",
      "G37970     ...               0.0          0.0          0.0         0.0   \n",
      "G37971     ...               0.0          0.0          0.0         0.0   \n",
      "G37972     ...               0.0          0.0          0.0         0.0   \n",
      "G37973     ...               0.0          0.0          0.0         0.0   \n",
      "G37975     ...               0.0          0.0          0.0         0.0   \n",
      "G37976     ...               0.0          0.0          0.0         0.0   \n",
      "G37978     ...               0.0          0.0          0.0         0.0   \n",
      "G37979     ...               0.0          0.0          0.0         0.0   \n",
      "G37980     ...               0.0          0.0          0.0         0.0   \n",
      "G37981     ...               0.0          0.0          0.0         0.0   \n",
      "G37982     ...               0.0          0.0          0.0         0.0   \n",
      "G37983     ...               0.0          0.0          0.0         0.0   \n",
      "G37984     ...               0.0          0.0          0.0         0.0   \n",
      "G37985     ...               0.0          0.0          0.0         0.0   \n",
      "G37986     ...               0.0          0.0          0.0         0.0   \n",
      "G37988     ...               0.0          0.0          0.0         0.0   \n",
      "G37989     ...               0.0          0.0          0.0         0.0   \n",
      "G37990     ...               0.0          0.0          0.0         0.0   \n",
      "G37991     ...               0.0          0.0          0.0         0.0   \n",
      "G37992     ...               0.0          0.0          0.0         0.0   \n",
      "...        ...               ...          ...          ...         ...   \n",
      "G44009     ...               0.0          0.0          0.0         0.0   \n",
      "G38144     ...               0.0          0.0          0.0         0.0   \n",
      "G37987     ...               0.0          0.0          0.0         0.0   \n",
      "G43629     ...               0.0          0.0          0.0         0.0   \n",
      "G43582     ...               0.0          0.0          0.0         0.0   \n",
      "G43508     ...               0.0          0.0          0.0         0.0   \n",
      "G38097     ...               0.0          0.0          0.0         0.0   \n",
      "G38041     ...               0.0          0.0          0.0         0.0   \n",
      "G43484     ...               0.0          0.0          0.0         0.0   \n",
      "G43731     ...               0.0          0.0          0.0         0.0   \n",
      "G38039     ...               0.0          0.0          0.0         0.0   \n",
      "G38088     ...               0.0          0.0          0.0         0.0   \n",
      "G43239     ...               0.0          0.0          0.0         0.0   \n",
      "G37974     ...               0.0          0.0          0.0         0.0   \n",
      "G43237     ...               0.0          0.0          0.0         0.0   \n",
      "G38069     ...               0.0          0.0          0.0         0.0   \n",
      "G43333     ...               0.0          0.0          0.0         0.0   \n",
      "G43533     ...               0.0          0.0          0.0         0.0   \n",
      "G38119     ...               0.0          0.0          0.0         0.0   \n",
      "G43131     ...               0.0          0.0          0.0         0.0   \n",
      "G43174     ...               0.0          0.0          0.0         0.0   \n",
      "G38024     ...               0.0          0.0          0.0         0.0   \n",
      "G38138     ...               0.0          0.0          0.0         0.0   \n",
      "G43548     ...               0.0          0.0          0.0         0.0   \n",
      "G43597     ...               0.0          0.0          0.0         0.0   \n",
      "G43265     ...               0.0          0.0          0.0         0.0   \n",
      "G43156     ...               0.0          0.0          0.0         0.0   \n",
      "G43211     ...               0.0          0.0          0.0         0.0   \n",
      "G43179     ...               0.0          0.0          0.0         0.0   \n",
      "G43544     ...               0.0          0.0          0.0         0.0   \n",
      "\n",
      "OTU_ID  denovo22216  denovo22219  denovo22218  denovo43272  denovo32739  \\\n",
      "G37960          0.0     0.000025          0.0     0.000000     0.000000   \n",
      "G37961          0.0     0.000000          0.0     0.000000     0.000000   \n",
      "G37962          0.0     0.000000          0.0     0.000000     0.000000   \n",
      "G37963          0.0     0.000000          0.0     0.000000     0.000000   \n",
      "G37964          0.0     0.000000          0.0     0.000000     0.000000   \n",
      "G37965          0.0     0.000000          0.0     0.000000     0.000000   \n",
      "G37966          0.0     0.000000          0.0     0.000000     0.000000   \n",
      "G37967          0.0     0.000000          0.0     0.000000     0.000000   \n",
      "G37968          0.0     0.000000          0.0     0.000000     0.000000   \n",
      "G37969          0.0     0.000000          0.0     0.000000     0.000000   \n",
      "G37970          0.0     0.000000          0.0     0.000000     0.000000   \n",
      "G37971          0.0     0.000000          0.0     0.000000     0.000000   \n",
      "G37972          0.0     0.000000          0.0     0.000000     0.000000   \n",
      "G37973          0.0     0.000000          0.0     0.000000     0.000000   \n",
      "G37975          0.0     0.000000          0.0     0.000000     0.000000   \n",
      "G37976          0.0     0.000000          0.0     0.000000     0.000000   \n",
      "G37978          0.0     0.000000          0.0     0.000023     0.000000   \n",
      "G37979          0.0     0.000000          0.0     0.000000     0.000000   \n",
      "G37980          0.0     0.000000          0.0     0.000000     0.000000   \n",
      "G37981          0.0     0.000000          0.0     0.000000     0.000000   \n",
      "G37982          0.0     0.000000          0.0     0.000000     0.000000   \n",
      "G37983          0.0     0.000000          0.0     0.000000     0.000034   \n",
      "G37984          0.0     0.000000          0.0     0.000000     0.000000   \n",
      "G37985          0.0     0.000000          0.0     0.000000     0.000020   \n",
      "G37986          0.0     0.000000          0.0     0.000000     0.000000   \n",
      "G37988          0.0     0.000000          0.0     0.000000     0.000000   \n",
      "G37989          0.0     0.000000          0.0     0.000000     0.000000   \n",
      "G37990          0.0     0.000000          0.0     0.000000     0.000000   \n",
      "G37991          0.0     0.000000          0.0     0.000000     0.000000   \n",
      "G37992          0.0     0.000000          0.0     0.000000     0.000000   \n",
      "...             ...          ...          ...          ...          ...   \n",
      "G44009          0.0     0.000000          0.0     0.000000     0.000000   \n",
      "G38144          0.0     0.000000          0.0     0.000000     0.000000   \n",
      "G37987          0.0     0.000000          0.0     0.000000     0.000000   \n",
      "G43629          0.0     0.000000          0.0     0.000000     0.000000   \n",
      "G43582          0.0     0.000000          0.0     0.000000     0.000000   \n",
      "G43508          0.0     0.000000          0.0     0.000000     0.000000   \n",
      "G38097          0.0     0.000000          0.0     0.000000     0.000000   \n",
      "G38041          0.0     0.000000          0.0     0.000026     0.000000   \n",
      "G43484          0.0     0.000000          0.0     0.000000     0.000000   \n",
      "G43731          0.0     0.000000          0.0     0.000000     0.000000   \n",
      "G38039          0.0     0.000000          0.0     0.000000     0.000000   \n",
      "G38088          0.0     0.000000          0.0     0.000000     0.000000   \n",
      "G43239          0.0     0.000000          0.0     0.000000     0.000000   \n",
      "G37974          0.0     0.000000          0.0     0.000000     0.000000   \n",
      "G43237          0.0     0.000000          0.0     0.000000     0.000000   \n",
      "G38069          0.0     0.000000          0.0     0.000000     0.000000   \n",
      "G43333          0.0     0.000000          0.0     0.000000     0.000000   \n",
      "G43533          0.0     0.000000          0.0     0.000000     0.000000   \n",
      "G38119          0.0     0.000000          0.0     0.000000     0.000000   \n",
      "G43131          0.0     0.000000          0.0     0.000000     0.000000   \n",
      "G43174          0.0     0.000000          0.0     0.000000     0.000000   \n",
      "G38024          0.0     0.000000          0.0     0.000000     0.000000   \n",
      "G38138          0.0     0.000000          0.0     0.000000     0.000000   \n",
      "G43548          0.0     0.000000          0.0     0.000000     0.000000   \n",
      "G43597          0.0     0.000000          0.0     0.000000     0.000000   \n",
      "G43265          0.0     0.000000          0.0     0.000000     0.000000   \n",
      "G43156          0.0     0.000000          0.0     0.000000     0.000000   \n",
      "G43211          0.0     0.000000          0.0     0.000000     0.000000   \n",
      "G43179          0.0     0.000000          0.0     0.000000     0.000000   \n",
      "G43544          0.0     0.000000          0.0     0.000000     0.000000   \n",
      "\n",
      "OTU_ID  denovo32738  \n",
      "G37960          0.0  \n",
      "G37961          0.0  \n",
      "G37962          0.0  \n",
      "G37963          0.0  \n",
      "G37964          0.0  \n",
      "G37965          0.0  \n",
      "G37966          0.0  \n",
      "G37967          0.0  \n",
      "G37968          0.0  \n",
      "G37969          0.0  \n",
      "G37970          0.0  \n",
      "G37971          0.0  \n",
      "G37972          0.0  \n",
      "G37973          0.0  \n",
      "G37975          0.0  \n",
      "G37976          0.0  \n",
      "G37978          0.0  \n",
      "G37979          0.0  \n",
      "G37980          0.0  \n",
      "G37981          0.0  \n",
      "G37982          0.0  \n",
      "G37983          0.0  \n",
      "G37984          0.0  \n",
      "G37985          0.0  \n",
      "G37986          0.0  \n",
      "G37988          0.0  \n",
      "G37989          0.0  \n",
      "G37990          0.0  \n",
      "G37991          0.0  \n",
      "G37992          0.0  \n",
      "...             ...  \n",
      "G44009          0.0  \n",
      "G38144          0.0  \n",
      "G37987          0.0  \n",
      "G43629          0.0  \n",
      "G43582          0.0  \n",
      "G43508          0.0  \n",
      "G38097          0.0  \n",
      "G38041          0.0  \n",
      "G43484          0.0  \n",
      "G43731          0.0  \n",
      "G38039          0.0  \n",
      "G38088          0.0  \n",
      "G43239          0.0  \n",
      "G37974          0.0  \n",
      "G43237          0.0  \n",
      "G38069          0.0  \n",
      "G43333          0.0  \n",
      "G43533          0.0  \n",
      "G38119          0.0  \n",
      "G43131          0.0  \n",
      "G43174          0.0  \n",
      "G38024          0.0  \n",
      "G38138          0.0  \n",
      "G43548          0.0  \n",
      "G43597          0.0  \n",
      "G43265          0.0  \n",
      "G43156          0.0  \n",
      "G43211          0.0  \n",
      "G43179          0.0  \n",
      "G43544          0.0  \n",
      "\n",
      "[1010 rows x 46690 columns]\n"
     ]
    }
   ],
   "source": [
    "# Import data into a pandas dataframe\n",
    "otu_table = pd.read_csv('EGAD00001003453.otu_table.99.denovo', sep='\\t', header=0, index_col=0)\n",
    "\n",
    "#Transpose OTU table so that samples are rows and OTUs are columns\n",
    "otu_table = otu_table.T\n",
    "\n",
    "#Convert to relative abundances\n",
    "#Normalize each person to 1 (change to relative abundances)\n",
    "otu_table_normalized = otu_table.div(otu_table.sum(axis=1), axis=0)\n",
    "print(otu_table_normalized)"
   ]
  },
  {
   "cell_type": "code",
   "execution_count": 36,
   "metadata": {
    "collapsed": false,
    "scrolled": true
   },
   "outputs": [
    {
     "name": "stdout",
     "output_type": "stream",
     "text": [
      "1010\n"
     ]
    }
   ],
   "source": [
    "#Make training and testing sets (50/50 for now)\n",
    "\n",
    "#Scramble existing table with hard-coded random seed\n",
    "otu_table_normalized = otu_table_normalized.sample(frac=1, random_state=1)\n",
    "\n",
    "#Make first half training and second half testing\n",
    "total_people = otu_table_normalized.shape[0]\n",
    "print(total_people)\n",
    "midway = total_people/2\n",
    "training_table = otu_table.iloc[0:int(midway)]\n",
    "testing_table = otu_table.iloc[int(midway):]\n"
   ]
  },
  {
   "cell_type": "markdown",
   "metadata": {},
   "source": [
    "### Set conditions to test:"
   ]
  },
  {
   "cell_type": "code",
   "execution_count": null,
   "metadata": {
    "collapsed": true
   },
   "outputs": [],
   "source": [
    "N = [5, 10, 50, 100, 250]\n",
    "weight_setup = ['even', 'uneven_100x', 'uneven_10x', 'uneven_graduated', 'uneven_bins']\n",
    "\n",
    "#Number of times to run each condition (N and weight setup)\n",
    "num_repeats = 5"
   ]
  },
  {
   "cell_type": "code",
   "execution_count": 5,
   "metadata": {
    "collapsed": false
   },
   "outputs": [
    {
     "name": "stdout",
     "output_type": "stream",
     "text": [
      "OTU_ID  denovo7709  denovo5395  denovo11322  denovo44859  denovo44858  \\\n",
      "G37987           0           0            0            0            0   \n",
      "G37988           0           0            0            0            0   \n",
      "G43187           0           0            0            0            0   \n",
      "G43093           0           0            0            0            0   \n",
      "G43242           0           0            0            0            0   \n",
      "\n",
      "OTU_ID  denovo41472  denovo41473  denovo41470  denovo41471  denovo41476  \\\n",
      "G37987            0            0            0            0            0   \n",
      "G37988            0            0            0            0            0   \n",
      "G43187            0            0            0            0            0   \n",
      "G43093            0            0            0            0            0   \n",
      "G43242            0            0            0            0            0   \n",
      "\n",
      "OTU_ID     ...       denovo22212  denovo19194  denovo32732  denovo7356  \\\n",
      "G37987     ...                 0            0            0           0   \n",
      "G37988     ...                 0            0            0           0   \n",
      "G43187     ...                 0            0            0           0   \n",
      "G43093     ...                 0            0            0           0   \n",
      "G43242     ...                 0            0            0           0   \n",
      "\n",
      "OTU_ID  denovo22216  denovo22219  denovo22218  denovo43272  denovo32739  \\\n",
      "G37987            0            0            0            0            0   \n",
      "G37988            0            0            0            0            0   \n",
      "G43187            0            0            0            0            0   \n",
      "G43093            0            0            0            0            0   \n",
      "G43242            0            0            0            0            0   \n",
      "\n",
      "OTU_ID  denovo32738  \n",
      "G37987            0  \n",
      "G37988            0  \n",
      "G43187            0  \n",
      "G43093            0  \n",
      "G43242            0  \n",
      "\n",
      "[5 rows x 46690 columns]\n"
     ]
    }
   ],
   "source": [
    "#Choose number of samples\n",
    "num_samples = 5\n",
    "\n",
    "#Choose num_samples random people from the study, with replacement\n",
    "random_sample = training_table.sample(n=num_samples, replace=True)\n",
    "print(random_sample)"
   ]
  },
  {
   "cell_type": "code",
   "execution_count": 7,
   "metadata": {
    "collapsed": false
   },
   "outputs": [
    {
     "name": "stdout",
     "output_type": "stream",
     "text": [
      "[[0 0 0 ... 0 0 0]\n",
      " [0 0 0 ... 0 0 0]\n",
      " [0 0 0 ... 0 0 0]\n",
      " [0 0 0 ... 0 0 0]\n",
      " [0 0 0 ... 0 0 0]]\n"
     ]
    }
   ],
   "source": [
    "#Make into numpy array\n",
    "numpy_array = random_sample.values\n",
    "print(numpy_array)"
   ]
  },
  {
   "cell_type": "code",
   "execution_count": 23,
   "metadata": {
    "collapsed": false
   },
   "outputs": [
    {
     "name": "stderr",
     "output_type": "stream",
     "text": [
      "/Users/Diana_Gong/anaconda3/lib/python3.6/site-packages/pandas/core/indexes/base.py:3772: RuntimeWarning: '<' not supported between instances of 'str' and 'int', sort order is undefined for incomparable objects\n",
      "  return this.join(other, how=how, return_indexers=return_indexers)\n"
     ]
    },
    {
     "data": {
      "text/html": [
       "<div>\n",
       "<style scoped>\n",
       "    .dataframe tbody tr th:only-of-type {\n",
       "        vertical-align: middle;\n",
       "    }\n",
       "\n",
       "    .dataframe tbody tr th {\n",
       "        vertical-align: top;\n",
       "    }\n",
       "\n",
       "    .dataframe thead th {\n",
       "        text-align: right;\n",
       "    }\n",
       "</style>\n",
       "<table border=\"1\" class=\"dataframe\">\n",
       "  <thead>\n",
       "    <tr style=\"text-align: right;\">\n",
       "      <th></th>\n",
       "      <th>denovo7709</th>\n",
       "      <th>denovo5395</th>\n",
       "      <th>denovo11322</th>\n",
       "      <th>denovo44859</th>\n",
       "      <th>denovo44858</th>\n",
       "      <th>denovo41472</th>\n",
       "      <th>denovo41473</th>\n",
       "      <th>denovo41470</th>\n",
       "      <th>denovo41471</th>\n",
       "      <th>denovo41476</th>\n",
       "      <th>...</th>\n",
       "      <th>denovo22219</th>\n",
       "      <th>denovo22218</th>\n",
       "      <th>denovo43272</th>\n",
       "      <th>denovo32739</th>\n",
       "      <th>denovo32738</th>\n",
       "      <th>0</th>\n",
       "      <th>1</th>\n",
       "      <th>2</th>\n",
       "      <th>3</th>\n",
       "      <th>4</th>\n",
       "    </tr>\n",
       "  </thead>\n",
       "  <tbody>\n",
       "    <tr>\n",
       "      <th>G37987</th>\n",
       "      <td>NaN</td>\n",
       "      <td>NaN</td>\n",
       "      <td>NaN</td>\n",
       "      <td>NaN</td>\n",
       "      <td>NaN</td>\n",
       "      <td>NaN</td>\n",
       "      <td>NaN</td>\n",
       "      <td>NaN</td>\n",
       "      <td>NaN</td>\n",
       "      <td>NaN</td>\n",
       "      <td>...</td>\n",
       "      <td>NaN</td>\n",
       "      <td>NaN</td>\n",
       "      <td>NaN</td>\n",
       "      <td>NaN</td>\n",
       "      <td>NaN</td>\n",
       "      <td>NaN</td>\n",
       "      <td>NaN</td>\n",
       "      <td>NaN</td>\n",
       "      <td>NaN</td>\n",
       "      <td>NaN</td>\n",
       "    </tr>\n",
       "    <tr>\n",
       "      <th>G37988</th>\n",
       "      <td>NaN</td>\n",
       "      <td>NaN</td>\n",
       "      <td>NaN</td>\n",
       "      <td>NaN</td>\n",
       "      <td>NaN</td>\n",
       "      <td>NaN</td>\n",
       "      <td>NaN</td>\n",
       "      <td>NaN</td>\n",
       "      <td>NaN</td>\n",
       "      <td>NaN</td>\n",
       "      <td>...</td>\n",
       "      <td>NaN</td>\n",
       "      <td>NaN</td>\n",
       "      <td>NaN</td>\n",
       "      <td>NaN</td>\n",
       "      <td>NaN</td>\n",
       "      <td>NaN</td>\n",
       "      <td>NaN</td>\n",
       "      <td>NaN</td>\n",
       "      <td>NaN</td>\n",
       "      <td>NaN</td>\n",
       "    </tr>\n",
       "    <tr>\n",
       "      <th>G43187</th>\n",
       "      <td>NaN</td>\n",
       "      <td>NaN</td>\n",
       "      <td>NaN</td>\n",
       "      <td>NaN</td>\n",
       "      <td>NaN</td>\n",
       "      <td>NaN</td>\n",
       "      <td>NaN</td>\n",
       "      <td>NaN</td>\n",
       "      <td>NaN</td>\n",
       "      <td>NaN</td>\n",
       "      <td>...</td>\n",
       "      <td>NaN</td>\n",
       "      <td>NaN</td>\n",
       "      <td>NaN</td>\n",
       "      <td>NaN</td>\n",
       "      <td>NaN</td>\n",
       "      <td>NaN</td>\n",
       "      <td>NaN</td>\n",
       "      <td>NaN</td>\n",
       "      <td>NaN</td>\n",
       "      <td>NaN</td>\n",
       "    </tr>\n",
       "    <tr>\n",
       "      <th>G43093</th>\n",
       "      <td>NaN</td>\n",
       "      <td>NaN</td>\n",
       "      <td>NaN</td>\n",
       "      <td>NaN</td>\n",
       "      <td>NaN</td>\n",
       "      <td>NaN</td>\n",
       "      <td>NaN</td>\n",
       "      <td>NaN</td>\n",
       "      <td>NaN</td>\n",
       "      <td>NaN</td>\n",
       "      <td>...</td>\n",
       "      <td>NaN</td>\n",
       "      <td>NaN</td>\n",
       "      <td>NaN</td>\n",
       "      <td>NaN</td>\n",
       "      <td>NaN</td>\n",
       "      <td>NaN</td>\n",
       "      <td>NaN</td>\n",
       "      <td>NaN</td>\n",
       "      <td>NaN</td>\n",
       "      <td>NaN</td>\n",
       "    </tr>\n",
       "    <tr>\n",
       "      <th>G43242</th>\n",
       "      <td>NaN</td>\n",
       "      <td>NaN</td>\n",
       "      <td>NaN</td>\n",
       "      <td>NaN</td>\n",
       "      <td>NaN</td>\n",
       "      <td>NaN</td>\n",
       "      <td>NaN</td>\n",
       "      <td>NaN</td>\n",
       "      <td>NaN</td>\n",
       "      <td>NaN</td>\n",
       "      <td>...</td>\n",
       "      <td>NaN</td>\n",
       "      <td>NaN</td>\n",
       "      <td>NaN</td>\n",
       "      <td>NaN</td>\n",
       "      <td>NaN</td>\n",
       "      <td>NaN</td>\n",
       "      <td>NaN</td>\n",
       "      <td>NaN</td>\n",
       "      <td>NaN</td>\n",
       "      <td>NaN</td>\n",
       "    </tr>\n",
       "  </tbody>\n",
       "</table>\n",
       "<p>5 rows × 46695 columns</p>\n",
       "</div>"
      ],
      "text/plain": [
       "        denovo7709  denovo5395  denovo11322  denovo44859  denovo44858  \\\n",
       "G37987         NaN         NaN          NaN          NaN          NaN   \n",
       "G37988         NaN         NaN          NaN          NaN          NaN   \n",
       "G43187         NaN         NaN          NaN          NaN          NaN   \n",
       "G43093         NaN         NaN          NaN          NaN          NaN   \n",
       "G43242         NaN         NaN          NaN          NaN          NaN   \n",
       "\n",
       "        denovo41472  denovo41473  denovo41470  denovo41471  denovo41476 ...  \\\n",
       "G37987          NaN          NaN          NaN          NaN          NaN ...   \n",
       "G37988          NaN          NaN          NaN          NaN          NaN ...   \n",
       "G43187          NaN          NaN          NaN          NaN          NaN ...   \n",
       "G43093          NaN          NaN          NaN          NaN          NaN ...   \n",
       "G43242          NaN          NaN          NaN          NaN          NaN ...   \n",
       "\n",
       "        denovo22219  denovo22218  denovo43272  denovo32739  denovo32738   0  \\\n",
       "G37987          NaN          NaN          NaN          NaN          NaN NaN   \n",
       "G37988          NaN          NaN          NaN          NaN          NaN NaN   \n",
       "G43187          NaN          NaN          NaN          NaN          NaN NaN   \n",
       "G43093          NaN          NaN          NaN          NaN          NaN NaN   \n",
       "G43242          NaN          NaN          NaN          NaN          NaN NaN   \n",
       "\n",
       "         1   2   3   4  \n",
       "G37987 NaN NaN NaN NaN  \n",
       "G37988 NaN NaN NaN NaN  \n",
       "G43187 NaN NaN NaN NaN  \n",
       "G43093 NaN NaN NaN NaN  \n",
       "G43242 NaN NaN NaN NaN  \n",
       "\n",
       "[5 rows x 46695 columns]"
      ]
     },
     "execution_count": 23,
     "metadata": {},
     "output_type": "execute_result"
    }
   ],
   "source": [
    "random_sample * pd.Series([0.8, 0.1, 0.1, 0.1, 0.1])"
   ]
  },
  {
   "cell_type": "code",
   "execution_count": 8,
   "metadata": {
    "collapsed": false
   },
   "outputs": [
    {
     "name": "stdout",
     "output_type": "stream",
     "text": [
      "[[0. 0. 0. ... 0. 0. 0.]\n",
      " [0. 0. 0. ... 0. 0. 0.]\n",
      " [0. 0. 0. ... 0. 0. 0.]\n",
      " [0. 0. 0. ... 0. 0. 0.]\n",
      " [0. 0. 0. ... 0. 0. 0.]]\n"
     ]
    }
   ],
   "source": []
  },
  {
   "cell_type": "code",
   "execution_count": 9,
   "metadata": {
    "collapsed": false
   },
   "outputs": [
    {
     "name": "stdout",
     "output_type": "stream",
     "text": [
      "[0. 0. 0. ... 0. 0. 0.]\n"
     ]
    }
   ],
   "source": [
    "#Take column means (mean OTU relative abundance across all sampled people)\n",
    "#Even mixing\n",
    "even_mean = numpy_array_normalized.mean(axis=0)\n",
    "print(even_mean)\n"
   ]
  },
  {
   "cell_type": "code",
   "execution_count": 10,
   "metadata": {
    "collapsed": false
   },
   "outputs": [
    {
     "name": "stdout",
     "output_type": "stream",
     "text": [
      "[[0. 0. 0. ... 0. 0. 0.]\n",
      " [0. 0. 0. ... 0. 0. 0.]\n",
      " [0. 0. 0. ... 0. 0. 0.]\n",
      " ...\n",
      " [0. 0. 0. ... 0. 0. 0.]\n",
      " [0. 0. 0. ... 0. 0. 0.]\n",
      " [0. 0. 0. ... 0. 0. 0.]]\n",
      "[0. 0. 0. ... 0. 0. 0.]\n"
     ]
    }
   ],
   "source": [
    "#Uneven mixing: Repeat first person in sample num_samples*5 times, and calculate the new mean (this is in essence a weighted mean)\n",
    "repeats = np.tile(numpy_array_normalized[0], (num_samples*5,1))\n",
    "print(repeats)\n",
    "\n",
    "uneven_array = np.vstack((numpy_array_normalized,repeats))\n",
    "uneven_mean = uneven_array.mean(axis=0)\n",
    "print(uneven_mean)"
   ]
  },
  {
   "cell_type": "code",
   "execution_count": 11,
   "metadata": {
    "collapsed": false
   },
   "outputs": [],
   "source": [
    "#Put even and uneven means back into one dataframe\n",
    "mean_df = pd.DataFrame(even_mean, columns=['even'], index=random_sample.columns)\n",
    "mean_df['uneven'] = uneven_mean\n"
   ]
  },
  {
   "cell_type": "code",
   "execution_count": 12,
   "metadata": {
    "collapsed": false
   },
   "outputs": [
    {
     "name": "stdout",
     "output_type": "stream",
     "text": [
      "                 even    uneven\n",
      "OTU_ID                         \n",
      "denovo7709   0.000000  0.000000\n",
      "denovo5395   0.000000  0.000000\n",
      "denovo11322  0.000000  0.000000\n",
      "denovo44859  0.000000  0.000000\n",
      "denovo44858  0.000000  0.000000\n",
      "denovo41472  0.000000  0.000000\n",
      "denovo41473  0.000000  0.000000\n",
      "denovo41470  0.000000  0.000000\n",
      "denovo41471  0.000000  0.000000\n",
      "denovo41476  0.000000  0.000000\n",
      "denovo12514  0.000000  0.000000\n",
      "denovo12517  0.000000  0.000000\n",
      "denovo41475  0.000000  0.000000\n",
      "denovo12519  0.000000  0.000000\n",
      "denovo11297  0.000000  0.000000\n",
      "denovo41478  0.000000  0.000000\n",
      "denovo41479  0.000000  0.000000\n",
      "denovo43271  0.000000  0.000000\n",
      "denovo35426  0.000000  0.000000\n",
      "denovo35427  0.000000  0.000000\n",
      "denovo35424  0.000000  0.000000\n",
      "denovo35425  0.000023  0.000004\n",
      "denovo35422  0.000000  0.000000\n",
      "denovo34759  0.000000  0.000000\n",
      "denovo35420  0.000000  0.000000\n",
      "denovo35421  0.000000  0.000000\n",
      "denovo35428  0.000000  0.000000\n",
      "denovo35429  0.000000  0.000000\n",
      "denovo15147  0.000000  0.000000\n",
      "denovo24390  0.000000  0.000000\n",
      "...               ...       ...\n",
      "denovo43833  0.000000  0.000000\n",
      "denovo43834  0.000000  0.000000\n",
      "denovo43835  0.000000  0.000000\n",
      "denovo43836  0.000000  0.000000\n",
      "denovo43837  0.000000  0.000000\n",
      "denovo14618  0.000000  0.000000\n",
      "denovo14619  0.000000  0.000000\n",
      "denovo14614  0.000000  0.000000\n",
      "denovo14615  0.000000  0.000000\n",
      "denovo14616  0.000000  0.000000\n",
      "denovo14617  0.000000  0.000000\n",
      "denovo14610  0.000000  0.000000\n",
      "denovo14611  0.000000  0.000000\n",
      "denovo14612  0.000000  0.000000\n",
      "denovo14613  0.000000  0.000000\n",
      "denovo7705   0.000000  0.000000\n",
      "denovo7704   0.000000  0.000000\n",
      "denovo32737  0.000000  0.000000\n",
      "denovo19191  0.000000  0.000000\n",
      "denovo32735  0.000000  0.000000\n",
      "denovo22212  0.000000  0.000000\n",
      "denovo19194  0.000000  0.000000\n",
      "denovo32732  0.000000  0.000000\n",
      "denovo7356   0.000000  0.000000\n",
      "denovo22216  0.000000  0.000000\n",
      "denovo22219  0.000000  0.000000\n",
      "denovo22218  0.000000  0.000000\n",
      "denovo43272  0.000000  0.000000\n",
      "denovo32739  0.000000  0.000000\n",
      "denovo32738  0.000000  0.000000\n",
      "\n",
      "[46690 rows x 2 columns]\n"
     ]
    }
   ],
   "source": [
    "print(mean_df)"
   ]
  },
  {
   "cell_type": "code",
   "execution_count": 13,
   "metadata": {
    "collapsed": false
   },
   "outputs": [
    {
     "name": "stdout",
     "output_type": "stream",
     "text": [
      "(4295, 2)\n"
     ]
    }
   ],
   "source": [
    "nonzero_mean = mean_df.loc[(mean_df!=0).any(axis=1)]\n",
    "print (nonzero_mean.shape)"
   ]
  },
  {
   "cell_type": "code",
   "execution_count": 14,
   "metadata": {
    "collapsed": false
   },
   "outputs": [
    {
     "ename": "KeyboardInterrupt",
     "evalue": "",
     "output_type": "error",
     "traceback": [
      "\u001b[0;31m---------------------------------------------------------------------------\u001b[0m",
      "\u001b[0;31mKeyboardInterrupt\u001b[0m                         Traceback (most recent call last)",
      "\u001b[0;32m<ipython-input-14-51088a59b411>\u001b[0m in \u001b[0;36m<module>\u001b[0;34m()\u001b[0m\n\u001b[1;32m      1\u001b[0m \u001b[0mstart\u001b[0m \u001b[0;34m=\u001b[0m \u001b[0mtime\u001b[0m\u001b[0;34m.\u001b[0m\u001b[0mtime\u001b[0m\u001b[0;34m(\u001b[0m\u001b[0;34m)\u001b[0m\u001b[0;34m\u001b[0m\u001b[0m\n\u001b[0;32m----> 2\u001b[0;31m \u001b[0mplt\u001b[0m\u001b[0;34m.\u001b[0m\u001b[0mhist\u001b[0m\u001b[0;34m(\u001b[0m\u001b[0mnonzero_mean\u001b[0m\u001b[0;34m)\u001b[0m\u001b[0;34m\u001b[0m\u001b[0m\n\u001b[0m\u001b[1;32m      3\u001b[0m \u001b[0mprint\u001b[0m \u001b[0;34m(\u001b[0m\u001b[0mtime\u001b[0m\u001b[0;34m.\u001b[0m\u001b[0mtime\u001b[0m\u001b[0;34m(\u001b[0m\u001b[0;34m)\u001b[0m\u001b[0;34m-\u001b[0m\u001b[0mstart\u001b[0m\u001b[0;34m)\u001b[0m\u001b[0;34m\u001b[0m\u001b[0m\n",
      "\u001b[0;32m/Users/Diana_Gong/anaconda3/lib/python3.6/site-packages/matplotlib/pyplot.py\u001b[0m in \u001b[0;36mhist\u001b[0;34m(x, bins, range, density, weights, cumulative, bottom, histtype, align, orientation, rwidth, log, color, label, stacked, normed, hold, data, **kwargs)\u001b[0m\n\u001b[1;32m   3130\u001b[0m                       \u001b[0mhisttype\u001b[0m\u001b[0;34m=\u001b[0m\u001b[0mhisttype\u001b[0m\u001b[0;34m,\u001b[0m \u001b[0malign\u001b[0m\u001b[0;34m=\u001b[0m\u001b[0malign\u001b[0m\u001b[0;34m,\u001b[0m \u001b[0morientation\u001b[0m\u001b[0;34m=\u001b[0m\u001b[0morientation\u001b[0m\u001b[0;34m,\u001b[0m\u001b[0;34m\u001b[0m\u001b[0m\n\u001b[1;32m   3131\u001b[0m                       \u001b[0mrwidth\u001b[0m\u001b[0;34m=\u001b[0m\u001b[0mrwidth\u001b[0m\u001b[0;34m,\u001b[0m \u001b[0mlog\u001b[0m\u001b[0;34m=\u001b[0m\u001b[0mlog\u001b[0m\u001b[0;34m,\u001b[0m \u001b[0mcolor\u001b[0m\u001b[0;34m=\u001b[0m\u001b[0mcolor\u001b[0m\u001b[0;34m,\u001b[0m \u001b[0mlabel\u001b[0m\u001b[0;34m=\u001b[0m\u001b[0mlabel\u001b[0m\u001b[0;34m,\u001b[0m\u001b[0;34m\u001b[0m\u001b[0m\n\u001b[0;32m-> 3132\u001b[0;31m                       stacked=stacked, normed=normed, data=data, **kwargs)\n\u001b[0m\u001b[1;32m   3133\u001b[0m     \u001b[0;32mfinally\u001b[0m\u001b[0;34m:\u001b[0m\u001b[0;34m\u001b[0m\u001b[0m\n\u001b[1;32m   3134\u001b[0m         \u001b[0max\u001b[0m\u001b[0;34m.\u001b[0m\u001b[0m_hold\u001b[0m \u001b[0;34m=\u001b[0m \u001b[0mwashold\u001b[0m\u001b[0;34m\u001b[0m\u001b[0m\n",
      "\u001b[0;32m/Users/Diana_Gong/anaconda3/lib/python3.6/site-packages/matplotlib/__init__.py\u001b[0m in \u001b[0;36minner\u001b[0;34m(ax, *args, **kwargs)\u001b[0m\n\u001b[1;32m   1853\u001b[0m                         \u001b[0;34m\"the Matplotlib list!)\"\u001b[0m \u001b[0;34m%\u001b[0m \u001b[0;34m(\u001b[0m\u001b[0mlabel_namer\u001b[0m\u001b[0;34m,\u001b[0m \u001b[0mfunc\u001b[0m\u001b[0;34m.\u001b[0m\u001b[0m__name__\u001b[0m\u001b[0;34m)\u001b[0m\u001b[0;34m,\u001b[0m\u001b[0;34m\u001b[0m\u001b[0m\n\u001b[1;32m   1854\u001b[0m                         RuntimeWarning, stacklevel=2)\n\u001b[0;32m-> 1855\u001b[0;31m             \u001b[0;32mreturn\u001b[0m \u001b[0mfunc\u001b[0m\u001b[0;34m(\u001b[0m\u001b[0max\u001b[0m\u001b[0;34m,\u001b[0m \u001b[0;34m*\u001b[0m\u001b[0margs\u001b[0m\u001b[0;34m,\u001b[0m \u001b[0;34m**\u001b[0m\u001b[0mkwargs\u001b[0m\u001b[0;34m)\u001b[0m\u001b[0;34m\u001b[0m\u001b[0m\n\u001b[0m\u001b[1;32m   1856\u001b[0m \u001b[0;34m\u001b[0m\u001b[0m\n\u001b[1;32m   1857\u001b[0m         inner.__doc__ = _add_data_doc(inner.__doc__,\n",
      "\u001b[0;32m/Users/Diana_Gong/anaconda3/lib/python3.6/site-packages/matplotlib/axes/_axes.py\u001b[0m in \u001b[0;36mhist\u001b[0;34m(***failed resolving arguments***)\u001b[0m\n\u001b[1;32m   6604\u001b[0m                 patch = _barfunc(bins[:-1]+boffset, height, width,\n\u001b[1;32m   6605\u001b[0m                                  \u001b[0malign\u001b[0m\u001b[0;34m=\u001b[0m\u001b[0;34m'center'\u001b[0m\u001b[0;34m,\u001b[0m \u001b[0mlog\u001b[0m\u001b[0;34m=\u001b[0m\u001b[0mlog\u001b[0m\u001b[0;34m,\u001b[0m\u001b[0;34m\u001b[0m\u001b[0m\n\u001b[0;32m-> 6606\u001b[0;31m                                  color=c, **{bottom_kwarg: bottom})\n\u001b[0m\u001b[1;32m   6607\u001b[0m                 \u001b[0mpatches\u001b[0m\u001b[0;34m.\u001b[0m\u001b[0mappend\u001b[0m\u001b[0;34m(\u001b[0m\u001b[0mpatch\u001b[0m\u001b[0;34m)\u001b[0m\u001b[0;34m\u001b[0m\u001b[0m\n\u001b[1;32m   6608\u001b[0m                 \u001b[0;32mif\u001b[0m \u001b[0mstacked\u001b[0m\u001b[0;34m:\u001b[0m\u001b[0;34m\u001b[0m\u001b[0m\n",
      "\u001b[0;32m/Users/Diana_Gong/anaconda3/lib/python3.6/site-packages/matplotlib/__init__.py\u001b[0m in \u001b[0;36minner\u001b[0;34m(ax, *args, **kwargs)\u001b[0m\n\u001b[1;32m   1853\u001b[0m                         \u001b[0;34m\"the Matplotlib list!)\"\u001b[0m \u001b[0;34m%\u001b[0m \u001b[0;34m(\u001b[0m\u001b[0mlabel_namer\u001b[0m\u001b[0;34m,\u001b[0m \u001b[0mfunc\u001b[0m\u001b[0;34m.\u001b[0m\u001b[0m__name__\u001b[0m\u001b[0;34m)\u001b[0m\u001b[0;34m,\u001b[0m\u001b[0;34m\u001b[0m\u001b[0m\n\u001b[1;32m   1854\u001b[0m                         RuntimeWarning, stacklevel=2)\n\u001b[0;32m-> 1855\u001b[0;31m             \u001b[0;32mreturn\u001b[0m \u001b[0mfunc\u001b[0m\u001b[0;34m(\u001b[0m\u001b[0max\u001b[0m\u001b[0;34m,\u001b[0m \u001b[0;34m*\u001b[0m\u001b[0margs\u001b[0m\u001b[0;34m,\u001b[0m \u001b[0;34m**\u001b[0m\u001b[0mkwargs\u001b[0m\u001b[0;34m)\u001b[0m\u001b[0;34m\u001b[0m\u001b[0m\n\u001b[0m\u001b[1;32m   1856\u001b[0m \u001b[0;34m\u001b[0m\u001b[0m\n\u001b[1;32m   1857\u001b[0m         inner.__doc__ = _add_data_doc(inner.__doc__,\n",
      "\u001b[0;32m/Users/Diana_Gong/anaconda3/lib/python3.6/site-packages/matplotlib/axes/_axes.py\u001b[0m in \u001b[0;36mbar\u001b[0;34m(self, *args, **kwargs)\u001b[0m\n\u001b[1;32m   2326\u001b[0m             \u001b[0mymin\u001b[0m \u001b[0;34m=\u001b[0m \u001b[0mmax\u001b[0m\u001b[0;34m(\u001b[0m\u001b[0mymin\u001b[0m \u001b[0;34m*\u001b[0m \u001b[0;36m0.9\u001b[0m\u001b[0;34m,\u001b[0m \u001b[0;36m1e-100\u001b[0m\u001b[0;34m)\u001b[0m\u001b[0;34m\u001b[0m\u001b[0m\n\u001b[1;32m   2327\u001b[0m             \u001b[0mself\u001b[0m\u001b[0;34m.\u001b[0m\u001b[0mdataLim\u001b[0m\u001b[0;34m.\u001b[0m\u001b[0mintervaly\u001b[0m \u001b[0;34m=\u001b[0m \u001b[0;34m(\u001b[0m\u001b[0mymin\u001b[0m\u001b[0;34m,\u001b[0m \u001b[0mymax\u001b[0m\u001b[0;34m)\u001b[0m\u001b[0;34m\u001b[0m\u001b[0m\n\u001b[0;32m-> 2328\u001b[0;31m         \u001b[0mself\u001b[0m\u001b[0;34m.\u001b[0m\u001b[0mautoscale_view\u001b[0m\u001b[0;34m(\u001b[0m\u001b[0;34m)\u001b[0m\u001b[0;34m\u001b[0m\u001b[0m\n\u001b[0m\u001b[1;32m   2329\u001b[0m \u001b[0;34m\u001b[0m\u001b[0m\n\u001b[1;32m   2330\u001b[0m         \u001b[0mbar_container\u001b[0m \u001b[0;34m=\u001b[0m \u001b[0mBarContainer\u001b[0m\u001b[0;34m(\u001b[0m\u001b[0mpatches\u001b[0m\u001b[0;34m,\u001b[0m \u001b[0merrorbar\u001b[0m\u001b[0;34m,\u001b[0m \u001b[0mlabel\u001b[0m\u001b[0;34m=\u001b[0m\u001b[0mlabel\u001b[0m\u001b[0;34m)\u001b[0m\u001b[0;34m\u001b[0m\u001b[0m\n",
      "\u001b[0;32m/Users/Diana_Gong/anaconda3/lib/python3.6/site-packages/matplotlib/axes/_base.py\u001b[0m in \u001b[0;36mautoscale_view\u001b[0;34m(self, tight, scalex, scaley)\u001b[0m\n\u001b[1;32m   2448\u001b[0m             \u001b[0mstickies\u001b[0m \u001b[0;34m=\u001b[0m \u001b[0;34m[\u001b[0m\u001b[0martist\u001b[0m\u001b[0;34m.\u001b[0m\u001b[0msticky_edges\u001b[0m \u001b[0;32mfor\u001b[0m \u001b[0martist\u001b[0m \u001b[0;32min\u001b[0m \u001b[0mself\u001b[0m\u001b[0;34m.\u001b[0m\u001b[0mget_children\u001b[0m\u001b[0;34m(\u001b[0m\u001b[0;34m)\u001b[0m\u001b[0;34m]\u001b[0m\u001b[0;34m\u001b[0m\u001b[0m\n\u001b[1;32m   2449\u001b[0m             \u001b[0mx_stickies\u001b[0m \u001b[0;34m=\u001b[0m \u001b[0msum\u001b[0m\u001b[0;34m(\u001b[0m\u001b[0;34m[\u001b[0m\u001b[0msticky\u001b[0m\u001b[0;34m.\u001b[0m\u001b[0mx\u001b[0m \u001b[0;32mfor\u001b[0m \u001b[0msticky\u001b[0m \u001b[0;32min\u001b[0m \u001b[0mstickies\u001b[0m\u001b[0;34m]\u001b[0m\u001b[0;34m,\u001b[0m \u001b[0;34m[\u001b[0m\u001b[0;34m]\u001b[0m\u001b[0;34m)\u001b[0m\u001b[0;34m\u001b[0m\u001b[0m\n\u001b[0;32m-> 2450\u001b[0;31m             \u001b[0my_stickies\u001b[0m \u001b[0;34m=\u001b[0m \u001b[0msum\u001b[0m\u001b[0;34m(\u001b[0m\u001b[0;34m[\u001b[0m\u001b[0msticky\u001b[0m\u001b[0;34m.\u001b[0m\u001b[0my\u001b[0m \u001b[0;32mfor\u001b[0m \u001b[0msticky\u001b[0m \u001b[0;32min\u001b[0m \u001b[0mstickies\u001b[0m\u001b[0;34m]\u001b[0m\u001b[0;34m,\u001b[0m \u001b[0;34m[\u001b[0m\u001b[0;34m]\u001b[0m\u001b[0;34m)\u001b[0m\u001b[0;34m\u001b[0m\u001b[0m\n\u001b[0m\u001b[1;32m   2451\u001b[0m             \u001b[0;32mif\u001b[0m \u001b[0mself\u001b[0m\u001b[0;34m.\u001b[0m\u001b[0mget_xscale\u001b[0m\u001b[0;34m(\u001b[0m\u001b[0;34m)\u001b[0m\u001b[0;34m.\u001b[0m\u001b[0mlower\u001b[0m\u001b[0;34m(\u001b[0m\u001b[0;34m)\u001b[0m \u001b[0;34m==\u001b[0m \u001b[0;34m'log'\u001b[0m\u001b[0;34m:\u001b[0m\u001b[0;34m\u001b[0m\u001b[0m\n\u001b[1;32m   2452\u001b[0m                 \u001b[0mx_stickies\u001b[0m \u001b[0;34m=\u001b[0m \u001b[0;34m[\u001b[0m\u001b[0mxs\u001b[0m \u001b[0;32mfor\u001b[0m \u001b[0mxs\u001b[0m \u001b[0;32min\u001b[0m \u001b[0mx_stickies\u001b[0m \u001b[0;32mif\u001b[0m \u001b[0mxs\u001b[0m \u001b[0;34m>\u001b[0m \u001b[0;36m0\u001b[0m\u001b[0;34m]\u001b[0m\u001b[0;34m\u001b[0m\u001b[0m\n",
      "\u001b[0;31mKeyboardInterrupt\u001b[0m: "
     ]
    }
   ],
   "source": [
    "start = time.time()\n",
    "plt.hist(nonzero_mean)\n",
    "print (time.time()-start)"
   ]
  },
  {
   "cell_type": "code",
   "execution_count": 28,
   "metadata": {
    "collapsed": false
   },
   "outputs": [
    {
     "data": {
      "text/plain": [
       "<matplotlib.axes._subplots.AxesSubplot at 0x1a3c887780>"
      ]
     },
     "execution_count": 28,
     "metadata": {},
     "output_type": "execute_result"
    },
    {
     "data": {
      "image/png": "[encoded data removed]",
      "text/plain": [
       "<Figure size 432x288 with 1 Axes>"
      ]
     },
     "metadata": {},
     "output_type": "display_data"
    }
   ],
   "source": [
    "%matplotlib inline\n",
    "otu_table.sum().apply(np.log10).plot(kind='hist', bins=20)"
   ]
  },
  {
   "cell_type": "code",
   "execution_count": 32,
   "metadata": {
    "collapsed": false
   },
   "outputs": [
    {
     "data": {
      "text/plain": [
       "39450"
      ]
     },
     "execution_count": 32,
     "metadata": {},
     "output_type": "execute_result"
    }
   ],
   "source": [
    "sum(otu_table.sum() <= 100)"
   ]
  },
  {
   "cell_type": "code",
   "execution_count": null,
   "metadata": {
    "collapsed": true
   },
   "outputs": [],
   "source": []
  }
 ],
 "metadata": {
  "kernelspec": {
   "display_name": "Python 3",
   "language": "python",
   "name": "python3"
  },
  "language_info": {
   "codemirror_mode": {
    "name": "ipython",
    "version": 3
   },
   "file_extension": ".py",
   "mimetype": "text/x-python",
   "name": "python",
   "nbconvert_exporter": "python",
   "pygments_lexer": "ipython3",
   "version": "3.6.0"
  }
 },
 "nbformat": 4,
 "nbformat_minor": 2
}
